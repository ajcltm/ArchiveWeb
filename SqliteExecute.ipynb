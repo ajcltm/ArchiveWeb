{
 "cells": [
  {
   "cell_type": "code",
   "execution_count": 5,
   "id": "df9da1d0",
   "metadata": {
    "ExecuteTime": {
     "end_time": "2021-08-31T15:28:49.006638Z",
     "start_time": "2021-08-31T15:28:48.994409Z"
    }
   },
   "outputs": [],
   "source": [
    "import pandas as pd\n",
    "import datetime\n",
    "import sqlite3\n",
    "from flask import Blueprint, render_template, g"
   ]
  },
  {
   "cell_type": "markdown",
   "id": "1829a0c6",
   "metadata": {},
   "source": [
    "### Query DB"
   ]
  },
  {
   "cell_type": "code",
   "execution_count": 6,
   "id": "268bb419",
   "metadata": {
    "ExecuteTime": {
     "end_time": "2021-08-31T15:28:50.802653Z",
     "start_time": "2021-08-31T15:28:50.788823Z"
    }
   },
   "outputs": [],
   "source": [
    "# connect = sqlite3.connect('./archive.db')\n",
    "# cursor = connect.cursor()\n",
    "# cursor.execute('SELECT * FROM post')\n",
    "# rows = cursor.fetchall()\n",
    "# for row in rows:\n",
    "#     print(row)\n",
    "# cursor.close()"
   ]
  },
  {
   "cell_type": "markdown",
   "id": "097e7926",
   "metadata": {},
   "source": [
    "### Insert data into DB"
   ]
  },
  {
   "cell_type": "code",
   "execution_count": 4,
   "id": "5be0db4a",
   "metadata": {
    "ExecuteTime": {
     "end_time": "2021-08-31T15:28:46.326733Z",
     "start_time": "2021-08-31T15:28:46.317757Z"
    }
   },
   "outputs": [],
   "source": [
    "# connect = sqlite3.connect('./archive.db')\n",
    "# cursor = connect.cursor()\n",
    "# sql = \"insert into post (title, author_id, post_dated, content) values (?, ?, ?, ?)\"\n",
    "# cursor.execute(sql, ('second article', 1, time_str, str_))\n",
    "# connect.commit()\n",
    "# connect.close()"
   ]
  },
  {
   "cell_type": "markdown",
   "id": "1179b492",
   "metadata": {},
   "source": [
    "### Update data"
   ]
  },
  {
   "cell_type": "code",
   "execution_count": 7,
   "id": "4cab390f",
   "metadata": {
    "ExecuteTime": {
     "end_time": "2021-08-31T15:28:56.732103Z",
     "start_time": "2021-08-31T15:28:56.720639Z"
    }
   },
   "outputs": [],
   "source": [
    "# content = ''\n",
    "# id = ''\n",
    "# connect = sqlite3.connect('./archive.db')\n",
    "# cursor = connect.cursor()\n",
    "# sql = \"UPDATE post SET content = ? WHERE id = ?\"\n",
    "# cursor.execute(sql, (content, id))\n",
    "# connect.commit()\n",
    "# connect.close()"
   ]
  },
  {
   "cell_type": "markdown",
   "id": "4745911f",
   "metadata": {},
   "source": [
    "### Delete data from DB given some condition"
   ]
  },
  {
   "cell_type": "code",
   "execution_count": 20,
   "id": "230e4020",
   "metadata": {
    "ExecuteTime": {
     "end_time": "2021-08-31T15:30:49.239545Z",
     "start_time": "2021-08-31T15:30:49.225565Z"
    }
   },
   "outputs": [],
   "source": [
    "# connect = sqlite3.connect('./archive.db')\n",
    "# cursor = connect.cursor()\n",
    "# cursor.execute(\"DELETE FROM post WHERE id = :ID\",{\"ID\":3})\n",
    "# connect.commit()\n",
    "# cursor.close()"
   ]
  },
  {
   "cell_type": "code",
   "execution_count": 21,
   "id": "e48264df",
   "metadata": {
    "ExecuteTime": {
     "end_time": "2021-08-31T15:30:49.438647Z",
     "start_time": "2021-08-31T15:30:49.421137Z"
    }
   },
   "outputs": [],
   "source": [
    "def create_text_html_format(text) :\n",
    "    html = f'''<p> {text} </p>'''\n",
    "    return html"
   ]
  },
  {
   "cell_type": "code",
   "execution_count": 22,
   "id": "f9c6e331",
   "metadata": {
    "ExecuteTime": {
     "end_time": "2021-08-31T15:30:52.833791Z",
     "start_time": "2021-08-31T15:30:52.827213Z"
    }
   },
   "outputs": [],
   "source": [
    "def create_table_html_format(df):\n",
    "    html = df.to_html(index=False, justify='center')\n",
    "    return html"
   ]
  },
  {
   "cell_type": "code",
   "execution_count": 23,
   "id": "32eae601",
   "metadata": {
    "ExecuteTime": {
     "end_time": "2021-08-31T15:30:53.122234Z",
     "start_time": "2021-08-31T15:30:53.107238Z"
    }
   },
   "outputs": [],
   "source": [
    "def create_img_html_format(img_path):\n",
    "    html = f'''<img src=/static/{img_path} alt=\"Image\">'''\n",
    "    return html"
   ]
  },
  {
   "cell_type": "code",
   "execution_count": 24,
   "id": "a010eedc",
   "metadata": {
    "ExecuteTime": {
     "end_time": "2021-08-31T15:30:53.944741Z",
     "start_time": "2021-08-31T15:30:53.937760Z"
    }
   },
   "outputs": [],
   "source": [
    "def join_html_format(*htmls) :\n",
    "    html_list=[]\n",
    "    for html in htmls :\n",
    "        html_list.append(html)\n",
    "    final_html = '\\n'.join(html_list)\n",
    "    return final_html"
   ]
  },
  {
   "cell_type": "code",
   "execution_count": 25,
   "id": "0233dcc4",
   "metadata": {
    "ExecuteTime": {
     "end_time": "2021-08-31T15:30:55.028593Z",
     "start_time": "2021-08-31T15:30:55.014724Z"
    }
   },
   "outputs": [],
   "source": [
    "text_1 = \"This is the test paragraph.\"\n",
    "text_2 = \"And there is another test paragraph here.\""
   ]
  },
  {
   "cell_type": "code",
   "execution_count": 26,
   "id": "549bd619",
   "metadata": {
    "ExecuteTime": {
     "end_time": "2021-08-31T15:30:55.853817Z",
     "start_time": "2021-08-31T15:30:55.839003Z"
    }
   },
   "outputs": [],
   "source": [
    "df = pd.DataFrame(data={'col1':[n for n in range(0,5)], 'col2': [n for n in range(5,10)] })"
   ]
  },
  {
   "cell_type": "code",
   "execution_count": 27,
   "id": "4758d597",
   "metadata": {
    "ExecuteTime": {
     "end_time": "2021-08-31T15:30:58.983024Z",
     "start_time": "2021-08-31T15:30:58.972473Z"
    },
    "scrolled": true
   },
   "outputs": [],
   "source": [
    "img_path = 'graph_1.png'"
   ]
  },
  {
   "cell_type": "code",
   "execution_count": 28,
   "id": "ccfcb702",
   "metadata": {
    "ExecuteTime": {
     "end_time": "2021-08-31T15:31:01.043291Z",
     "start_time": "2021-08-31T15:31:01.030371Z"
    }
   },
   "outputs": [],
   "source": [
    "html_1 = create_text_html_format(text_1)\n",
    "html_2 = create_text_html_format(text_2)\n",
    "html_3 = create_table_html_format(df)\n",
    "html_4 = create_img_html_format(img_path)"
   ]
  },
  {
   "cell_type": "code",
   "execution_count": 29,
   "id": "8b731206",
   "metadata": {
    "ExecuteTime": {
     "end_time": "2021-08-31T15:31:04.960421Z",
     "start_time": "2021-08-31T15:31:04.946436Z"
    }
   },
   "outputs": [
    {
     "name": "stdout",
     "output_type": "stream",
     "text": [
      "<p> This is the test paragraph. </p>\n",
      "<p> And there is another test paragraph here. </p>\n",
      "<table border=\"1\" class=\"dataframe\">\n",
      "  <thead>\n",
      "    <tr style=\"text-align: center;\">\n",
      "      <th>col1</th>\n",
      "      <th>col2</th>\n",
      "    </tr>\n",
      "  </thead>\n",
      "  <tbody>\n",
      "    <tr>\n",
      "      <td>0</td>\n",
      "      <td>5</td>\n",
      "    </tr>\n",
      "    <tr>\n",
      "      <td>1</td>\n",
      "      <td>6</td>\n",
      "    </tr>\n",
      "    <tr>\n",
      "      <td>2</td>\n",
      "      <td>7</td>\n",
      "    </tr>\n",
      "    <tr>\n",
      "      <td>3</td>\n",
      "      <td>8</td>\n",
      "    </tr>\n",
      "    <tr>\n",
      "      <td>4</td>\n",
      "      <td>9</td>\n",
      "    </tr>\n",
      "  </tbody>\n",
      "</table>\n",
      "<img src=/static/graph_1.png alt=\"Image\">\n"
     ]
    }
   ],
   "source": [
    "html = join_html_format(html_1, html_2, html_3, html_4)\n",
    "print(html)"
   ]
  }
 ],
 "metadata": {
  "kernelspec": {
   "display_name": "Python 3",
   "language": "python",
   "name": "python3"
  },
  "language_info": {
   "codemirror_mode": {
    "name": "ipython",
    "version": 3
   },
   "file_extension": ".py",
   "mimetype": "text/x-python",
   "name": "python",
   "nbconvert_exporter": "python",
   "pygments_lexer": "ipython3",
   "version": "3.8.6"
  }
 },
 "nbformat": 4,
 "nbformat_minor": 5
}
